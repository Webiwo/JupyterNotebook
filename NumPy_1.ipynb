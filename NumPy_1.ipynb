{
 "cells": [
  {
   "cell_type": "code",
   "execution_count": 1,
   "id": "0fdfd713-fdeb-44a7-bc69-825f2c5121c1",
   "metadata": {},
   "outputs": [],
   "source": [
    "import numpy as np"
   ]
  },
  {
   "cell_type": "markdown",
   "id": "d36b1c97-3fa1-474a-9286-4a60f50279f5",
   "metadata": {},
   "source": [
    "## DataTypes and Attributes"
   ]
  },
  {
   "cell_type": "code",
   "execution_count": 6,
   "id": "b6ffc8e3-a570-4c17-8955-fcd92a9a9258",
   "metadata": {},
   "outputs": [
    {
     "data": {
      "text/plain": [
       "numpy.ndarray"
      ]
     },
     "execution_count": 6,
     "metadata": {},
     "output_type": "execute_result"
    }
   ],
   "source": [
    "# NumPy's mian datatype is ndarray\n",
    "arr1 = np.array([1,2,3])\n",
    "type(arr1)"
   ]
  },
  {
   "cell_type": "code",
   "execution_count": 7,
   "id": "c99a67bf-6eb0-4354-9595-4d99d1046d07",
   "metadata": {},
   "outputs": [],
   "source": [
    "# 1-dimensonal array, also referred to as a vector\n",
    "a1 = np.array([1, 2, 3])"
   ]
  },
  {
   "cell_type": "code",
   "execution_count": 8,
   "id": "c0433008-a209-4815-b880-402f74fedad1",
   "metadata": {},
   "outputs": [],
   "source": [
    "# 2-dimensional array, also referred to as matrix\n",
    "a2 = np.array([[1, 2.0, 3.3],\n",
    "               [4, 5, 6.5]])"
   ]
  },
  {
   "cell_type": "code",
   "execution_count": 9,
   "id": "23af9961-909a-40e1-a990-8ec19bd3273d",
   "metadata": {},
   "outputs": [],
   "source": [
    "# 3-dimensional array, also referred to as a matrix\n",
    "a3 = np.array([[[1, 2, 3],\n",
    "                [4, 5, 6],\n",
    "                [7, 8, 9]],\n",
    "                [[10, 11, 12],\n",
    "                 [13, 14, 15],\n",
    "                 [16, 17, 18]]])"
   ]
  },
  {
   "cell_type": "code",
   "execution_count": 10,
   "id": "01b48068-08ef-4e89-90c1-637198b5a968",
   "metadata": {},
   "outputs": [
    {
     "data": {
      "text/plain": [
       "((3,), (2, 3), (2, 3, 3))"
      ]
     },
     "execution_count": 10,
     "metadata": {},
     "output_type": "execute_result"
    }
   ],
   "source": [
    "a1.shape, a2.shape, a3.shape"
   ]
  },
  {
   "cell_type": "code",
   "execution_count": 11,
   "id": "3e6698fc-5b9c-4437-9411-c35d394d7e24",
   "metadata": {},
   "outputs": [
    {
     "data": {
      "text/plain": [
       "(1, 2, 3)"
      ]
     },
     "execution_count": 11,
     "metadata": {},
     "output_type": "execute_result"
    }
   ],
   "source": [
    "a1.ndim, a2.ndim, a3.ndim"
   ]
  },
  {
   "cell_type": "code",
   "execution_count": 12,
   "id": "d2d0a500-b04d-4136-a1e0-99d497461974",
   "metadata": {},
   "outputs": [
    {
     "data": {
      "text/plain": [
       "(3, 6, 18)"
      ]
     },
     "execution_count": 12,
     "metadata": {},
     "output_type": "execute_result"
    }
   ],
   "source": [
    "a1.size, a2.size, a3.size"
   ]
  },
  {
   "cell_type": "code",
   "execution_count": 13,
   "id": "1350e419-ba1a-40fe-9cec-6f5344465931",
   "metadata": {},
   "outputs": [
    {
     "data": {
      "text/plain": [
       "(dtype('int64'), dtype('float64'), dtype('int64'))"
      ]
     },
     "execution_count": 13,
     "metadata": {},
     "output_type": "execute_result"
    }
   ],
   "source": [
    "a1.dtype, a2.dtype, a3.dtype"
   ]
  },
  {
   "cell_type": "code",
   "execution_count": 15,
   "id": "4792260c-1323-401d-92d8-5c138f033dec",
   "metadata": {},
   "outputs": [
    {
     "data": {
      "text/html": [
       "<div>\n",
       "<style scoped>\n",
       "    .dataframe tbody tr th:only-of-type {\n",
       "        vertical-align: middle;\n",
       "    }\n",
       "\n",
       "    .dataframe tbody tr th {\n",
       "        vertical-align: top;\n",
       "    }\n",
       "\n",
       "    .dataframe thead th {\n",
       "        text-align: right;\n",
       "    }\n",
       "</style>\n",
       "<table border=\"1\" class=\"dataframe\">\n",
       "  <thead>\n",
       "    <tr style=\"text-align: right;\">\n",
       "      <th></th>\n",
       "      <th>0</th>\n",
       "      <th>1</th>\n",
       "      <th>2</th>\n",
       "    </tr>\n",
       "  </thead>\n",
       "  <tbody>\n",
       "    <tr>\n",
       "      <th>0</th>\n",
       "      <td>1.0</td>\n",
       "      <td>2.0</td>\n",
       "      <td>3.3</td>\n",
       "    </tr>\n",
       "    <tr>\n",
       "      <th>1</th>\n",
       "      <td>4.0</td>\n",
       "      <td>5.0</td>\n",
       "      <td>6.5</td>\n",
       "    </tr>\n",
       "  </tbody>\n",
       "</table>\n",
       "</div>"
      ],
      "text/plain": [
       "     0    1    2\n",
       "0  1.0  2.0  3.3\n",
       "1  4.0  5.0  6.5"
      ]
     },
     "execution_count": 15,
     "metadata": {},
     "output_type": "execute_result"
    }
   ],
   "source": [
    "# Creaet a DataFrame from a NumPy array\n",
    "import pandas as pd\n",
    "\n",
    "df = pd.DataFrame(a2)\n",
    "df"
   ]
  },
  {
   "cell_type": "markdown",
   "id": "b8961999-066f-4542-a262-7fac8095bbe4",
   "metadata": {},
   "source": [
    "## Creating Arrays"
   ]
  },
  {
   "cell_type": "code",
   "execution_count": 19,
   "id": "8e21cda1-da5e-4956-a52a-768fdffc59e2",
   "metadata": {},
   "outputs": [
    {
     "data": {
      "text/plain": [
       "array([[1, 1, 1],\n",
       "       [1, 1, 1]])"
      ]
     },
     "execution_count": 19,
     "metadata": {},
     "output_type": "execute_result"
    }
   ],
   "source": [
    "ones = np.ones((2,3), dtype=int)\n",
    "ones"
   ]
  },
  {
   "cell_type": "code",
   "execution_count": 20,
   "id": "83366c79-a731-4a7c-a9cb-0af86b83d917",
   "metadata": {},
   "outputs": [
    {
     "data": {
      "text/plain": [
       "array([[0, 0, 0],\n",
       "       [0, 0, 0]])"
      ]
     },
     "execution_count": 20,
     "metadata": {},
     "output_type": "execute_result"
    }
   ],
   "source": [
    "zeros = np.zeros((2,3), dtype=int)\n",
    "zeros"
   ]
  },
  {
   "cell_type": "code",
   "execution_count": 54,
   "id": "0fcf6746-3e11-4e83-8bc6-16824d359042",
   "metadata": {},
   "outputs": [],
   "source": [
    "#cat_arr = np.full(shape=(3,5), fill_value=\"cat\")\n",
    "cat_arr = np.full((3,5), \"cat\")"
   ]
  },
  {
   "cell_type": "code",
   "execution_count": 56,
   "id": "66daa9f2-35ce-413d-9c61-3d9b85623e11",
   "metadata": {},
   "outputs": [
    {
     "data": {
      "text/plain": [
       "array([['cat', 'cat', 'cat', 'cat', 'cat'],\n",
       "       ['cat', 'cat', 'cat', 'cat', 'cat'],\n",
       "       ['cat', 'cat', 'cat', 'cat', 'cat']], dtype='<U3')"
      ]
     },
     "execution_count": 56,
     "metadata": {},
     "output_type": "execute_result"
    }
   ],
   "source": [
    "cat_arr"
   ]
  },
  {
   "cell_type": "code",
   "execution_count": 21,
   "id": "4e3acb6f-04c0-448d-9267-d68c03c62c02",
   "metadata": {},
   "outputs": [
    {
     "data": {
      "text/plain": [
       "array([ 0,  2,  4,  6,  8, 10, 12, 14, 16, 18])"
      ]
     },
     "execution_count": 21,
     "metadata": {},
     "output_type": "execute_result"
    }
   ],
   "source": [
    "range_arr = np.arange(0,20,2)\n",
    "range_arr"
   ]
  },
  {
   "cell_type": "code",
   "execution_count": 23,
   "id": "3afcc750-175d-4c11-9b37-2216fe24a9ce",
   "metadata": {},
   "outputs": [
    {
     "data": {
      "text/plain": [
       "array([[1, 0, 2, 4],\n",
       "       [2, 1, 3, 3]], dtype=int32)"
      ]
     },
     "execution_count": 23,
     "metadata": {},
     "output_type": "execute_result"
    }
   ],
   "source": [
    "random_arr = np.random.randint(5, size=(2,4))\n",
    "random_arr"
   ]
  },
  {
   "cell_type": "code",
   "execution_count": 24,
   "id": "1de9066a-4286-413e-8337-45a42bd20d09",
   "metadata": {},
   "outputs": [
    {
     "data": {
      "text/plain": [
       "(8, (2, 4), dtype('int32'))"
      ]
     },
     "execution_count": 24,
     "metadata": {},
     "output_type": "execute_result"
    }
   ],
   "source": [
    "random_arr.size, random_arr.shape, random_arr.dtype"
   ]
  },
  {
   "cell_type": "code",
   "execution_count": 25,
   "id": "1ebf25c8-3e85-4f26-ac75-b1a1d8b8f368",
   "metadata": {},
   "outputs": [
    {
     "data": {
      "text/plain": [
       "array([[0.47670058, 0.14845525, 0.12434538],\n",
       "       [0.10887288, 0.92314476, 0.5378325 ],\n",
       "       [0.23508724, 0.51107192, 0.7929134 ],\n",
       "       [0.40728728, 0.16755761, 0.06743505],\n",
       "       [0.83110781, 0.75900358, 0.33110499]])"
      ]
     },
     "execution_count": 25,
     "metadata": {},
     "output_type": "execute_result"
    }
   ],
   "source": [
    "random_arr_2 = np.random.rand(5,3)\n",
    "random_arr_2"
   ]
  },
  {
   "cell_type": "code",
   "execution_count": 28,
   "id": "177ed47c-668d-4e55-9e5d-0093c2676467",
   "metadata": {},
   "outputs": [
    {
     "data": {
      "text/plain": [
       "array([[8, 9, 3, 8, 8],\n",
       "       [0, 5, 3, 9, 9],\n",
       "       [5, 7, 6, 0, 4]], dtype=int32)"
      ]
     },
     "execution_count": 28,
     "metadata": {},
     "output_type": "execute_result"
    }
   ],
   "source": [
    "np.random.seed(3)\n",
    "ra_1 = np.random.randint(10, size=(3,5))\n",
    "ra_1"
   ]
  },
  {
   "cell_type": "code",
   "execution_count": 29,
   "id": "d5bc313c-8a2e-43c1-9a9f-87a8ff2dc0d4",
   "metadata": {},
   "outputs": [
    {
     "data": {
      "text/plain": [
       "array([[8, 9, 3, 8, 8],\n",
       "       [0, 5, 3, 9, 9],\n",
       "       [5, 7, 6, 0, 4]], dtype=int32)"
      ]
     },
     "execution_count": 29,
     "metadata": {},
     "output_type": "execute_result"
    }
   ],
   "source": [
    "np.random.seed(3)\n",
    "ra_2 = np.random.randint(10, size=(3,5))\n",
    "ra_2"
   ]
  },
  {
   "cell_type": "markdown",
   "id": "5e7f9c65-b2f2-4bfa-bef5-73bd8e35c99e",
   "metadata": {},
   "source": [
    "## Viewing arrays and matrices"
   ]
  },
  {
   "cell_type": "code",
   "execution_count": 30,
   "id": "4ce95aa5-3c2d-4c2a-a72a-b6355c3d573e",
   "metadata": {},
   "outputs": [
    {
     "data": {
      "text/plain": [
       "array([0, 3, 4, 5, 6, 7, 8, 9], dtype=int32)"
      ]
     },
     "execution_count": 30,
     "metadata": {},
     "output_type": "execute_result"
    }
   ],
   "source": [
    "np.unique(ra_2)"
   ]
  },
  {
   "cell_type": "code",
   "execution_count": 32,
   "id": "35ae9cb4-cfca-4d16-bd87-528df6924fb4",
   "metadata": {},
   "outputs": [
    {
     "data": {
      "text/plain": [
       "array([[[[5, 3, 7, 2, 6, 1],\n",
       "         [5, 8, 6, 8, 9, 5],\n",
       "         [2, 1, 3, 8, 3, 7],\n",
       "         [7, 6, 2, 5, 5, 8],\n",
       "         [4, 1, 1, 1, 3, 2]],\n",
       "\n",
       "        [[4, 7, 5, 6, 3, 3],\n",
       "         [8, 0, 0, 5, 6, 4],\n",
       "         [2, 1, 7, 5, 6, 8],\n",
       "         [6, 9, 0, 9, 6, 7],\n",
       "         [1, 6, 7, 7, 8, 0]],\n",
       "\n",
       "        [[7, 5, 2, 9, 4, 1],\n",
       "         [6, 5, 1, 9, 6, 2],\n",
       "         [7, 9, 3, 0, 3, 0],\n",
       "         [8, 9, 6, 0, 2, 7],\n",
       "         [7, 7, 8, 0, 1, 8]]],\n",
       "\n",
       "\n",
       "       [[[2, 3, 0, 7, 0, 7],\n",
       "         [2, 0, 7, 8, 6, 6],\n",
       "         [9, 9, 6, 9, 7, 1],\n",
       "         [8, 6, 3, 0, 8, 1],\n",
       "         [7, 9, 2, 5, 7, 1]],\n",
       "\n",
       "        [[4, 1, 4, 5, 7, 7],\n",
       "         [6, 8, 0, 9, 0, 0],\n",
       "         [2, 3, 4, 3, 3, 1],\n",
       "         [2, 6, 9, 9, 6, 3],\n",
       "         [2, 1, 4, 2, 3, 0]],\n",
       "\n",
       "        [[1, 1, 2, 7, 0, 6],\n",
       "         [3, 4, 7, 3, 9, 4],\n",
       "         [8, 0, 0, 8, 1, 1],\n",
       "         [1, 8, 5, 0, 6, 5],\n",
       "         [6, 1, 1, 0, 6, 3]]]], dtype=int32)"
      ]
     },
     "execution_count": 32,
     "metadata": {},
     "output_type": "execute_result"
    }
   ],
   "source": [
    "ra_3 = np.random.randint(10, size=(2, 3, 5, 6))\n",
    "ra_3"
   ]
  },
  {
   "cell_type": "code",
   "execution_count": 36,
   "id": "5006a600-3739-45d9-8658-b67f884a56f0",
   "metadata": {},
   "outputs": [
    {
     "data": {
      "text/plain": [
       "array([[[[5, 3, 7],\n",
       "         [5, 8, 6]],\n",
       "\n",
       "        [[4, 7, 5],\n",
       "         [8, 0, 0]],\n",
       "\n",
       "        [[7, 5, 2],\n",
       "         [6, 5, 1]]]], dtype=int32)"
      ]
     },
     "execution_count": 36,
     "metadata": {},
     "output_type": "execute_result"
    }
   ],
   "source": [
    "ra_3[:1,:,:2,:3]"
   ]
  },
  {
   "cell_type": "code",
   "execution_count": 37,
   "id": "80edb0a8-f8bf-4d5a-a71d-aebd5d2c3d9d",
   "metadata": {},
   "outputs": [
    {
     "data": {
      "text/plain": [
       "array([[[[[[18, 60, 18, 62],\n",
       "           [98,  2, 49, 46],\n",
       "           [21,  4, 27, 38]],\n",
       "\n",
       "          [[78, 66, 23, 48],\n",
       "           [84, 26, 56, 40],\n",
       "           [85, 40,  9, 76]],\n",
       "\n",
       "          [[28, 49,  9, 37],\n",
       "           [ 9, 91, 39, 24],\n",
       "           [11, 14,  9, 79]]],\n",
       "\n",
       "\n",
       "         [[[40, 26, 73, 41],\n",
       "           [49, 28, 39, 19],\n",
       "           [26, 57, 85, 91]],\n",
       "\n",
       "          [[40, 78, 38, 86],\n",
       "           [77, 87, 99, 62],\n",
       "           [ 4, 49, 56,  1]],\n",
       "\n",
       "          [[74, 86, 71, 34],\n",
       "           [ 0, 87, 45, 82],\n",
       "           [95,  2,  3, 95]]]],\n",
       "\n",
       "\n",
       "\n",
       "        [[[[52, 78, 36, 43],\n",
       "           [38, 52, 25, 30],\n",
       "           [19, 98, 52, 67]],\n",
       "\n",
       "          [[46, 95, 35, 45],\n",
       "           [28, 36, 55, 18],\n",
       "           [67, 54, 99, 78]],\n",
       "\n",
       "          [[64, 34, 82, 53],\n",
       "           [24, 85, 71,  7],\n",
       "           [47, 89, 26,  2]]],\n",
       "\n",
       "\n",
       "         [[[70, 23, 80, 78],\n",
       "           [14,  0, 35, 58],\n",
       "           [33, 70, 69, 46]],\n",
       "\n",
       "          [[32, 61, 10, 15],\n",
       "           [74, 72, 97, 35],\n",
       "           [ 4, 79, 47, 11]],\n",
       "\n",
       "          [[67, 96, 15, 13],\n",
       "           [40, 64, 26, 35],\n",
       "           [18, 58, 95, 14]]]]],\n",
       "\n",
       "\n",
       "\n",
       "\n",
       "       [[[[[42, 66, 47, 40],\n",
       "           [37, 27, 97, 98],\n",
       "           [74, 47, 81, 40]],\n",
       "\n",
       "          [[63, 75, 53, 28],\n",
       "           [86, 71, 62, 50],\n",
       "           [45, 10, 34, 82]],\n",
       "\n",
       "          [[62, 80, 53, 77],\n",
       "           [58, 11, 90,  9],\n",
       "           [50, 82, 81, 64]]],\n",
       "\n",
       "\n",
       "         [[[69, 50, 86, 11],\n",
       "           [73, 47, 75,  2],\n",
       "           [30, 53, 83, 60]],\n",
       "\n",
       "          [[39, 91, 61, 30],\n",
       "           [77, 31,  1, 82],\n",
       "           [89, 45, 90, 54]],\n",
       "\n",
       "          [[69, 75, 91, 30],\n",
       "           [56, 96, 72, 24],\n",
       "           [80, 27, 47, 32]]]],\n",
       "\n",
       "\n",
       "\n",
       "        [[[[99, 75, 46, 70],\n",
       "           [96, 94, 36, 42],\n",
       "           [63, 63, 48, 75]],\n",
       "\n",
       "          [[43, 63, 63,  9],\n",
       "           [10, 89, 58, 25],\n",
       "           [60, 87, 91, 51]],\n",
       "\n",
       "          [[81, 41, 52, 74],\n",
       "           [95, 30, 15, 37],\n",
       "           [ 8,  6, 97, 86]]],\n",
       "\n",
       "\n",
       "         [[[18, 50, 25, 83],\n",
       "           [38, 36, 48, 18],\n",
       "           [60, 72, 19,  0]],\n",
       "\n",
       "          [[28, 94, 45, 57],\n",
       "           [ 6, 19, 88, 93],\n",
       "           [21, 24, 59, 30]],\n",
       "\n",
       "          [[96,  0, 57, 54],\n",
       "           [64,  5, 53, 92],\n",
       "           [44,  5, 67, 39]]]]]], dtype=int32)"
      ]
     },
     "execution_count": 37,
     "metadata": {},
     "output_type": "execute_result"
    }
   ],
   "source": [
    "ra_4 = np.random.randint(100, size=(2,2,2,3,3,4))\n",
    "ra_4"
   ]
  },
  {
   "cell_type": "code",
   "execution_count": 63,
   "id": "b1b7b606-2a40-48b7-a984-4b83742c8010",
   "metadata": {},
   "outputs": [
    {
     "data": {
      "text/plain": [
       "array([10, 20, 10, 20])"
      ]
     },
     "execution_count": 63,
     "metadata": {},
     "output_type": "execute_result"
    }
   ],
   "source": [
    "ra_5 = np.array([10, 20, 30, 40, 50])\n",
    "ra_5[[0, 1, 0, 1]]"
   ]
  },
  {
   "cell_type": "markdown",
   "id": "a3bdd585-c601-4a0c-a754-9bb328cd239d",
   "metadata": {},
   "source": [
    "## Manipulating arrays"
   ]
  },
  {
   "cell_type": "code",
   "execution_count": 39,
   "id": "da5b5bb4-939d-4579-ba9e-786c30a166c2",
   "metadata": {},
   "outputs": [
    {
     "data": {
      "text/plain": [
       "array([1, 2, 3])"
      ]
     },
     "execution_count": 39,
     "metadata": {},
     "output_type": "execute_result"
    }
   ],
   "source": [
    "a1"
   ]
  },
  {
   "cell_type": "code",
   "execution_count": 40,
   "id": "c30ac207-93e3-4715-8f8a-fdfb9a59a93a",
   "metadata": {},
   "outputs": [
    {
     "data": {
      "text/plain": [
       "array([[1, 1, 1],\n",
       "       [1, 1, 1]])"
      ]
     },
     "execution_count": 40,
     "metadata": {},
     "output_type": "execute_result"
    }
   ],
   "source": [
    "ones"
   ]
  },
  {
   "cell_type": "code",
   "execution_count": 49,
   "id": "4b738def-6f27-48e0-ad07-963c1e3c911b",
   "metadata": {},
   "outputs": [
    {
     "data": {
      "text/plain": [
       "array([[2, 3, 4],\n",
       "       [2, 3, 4]])"
      ]
     },
     "execution_count": 49,
     "metadata": {},
     "output_type": "execute_result"
    }
   ],
   "source": [
    "a1 + ones"
   ]
  },
  {
   "cell_type": "code",
   "execution_count": 44,
   "id": "4cdb8dfb-b506-44e0-9fa2-3b697ae756f8",
   "metadata": {},
   "outputs": [
    {
     "data": {
      "text/plain": [
       "array([[0, 1, 2],\n",
       "       [0, 1, 2]])"
      ]
     },
     "execution_count": 44,
     "metadata": {},
     "output_type": "execute_result"
    }
   ],
   "source": [
    "a1 - ones"
   ]
  },
  {
   "cell_type": "code",
   "execution_count": 64,
   "id": "ee0adfe3-500f-4bbc-9aae-945b1c03b711",
   "metadata": {},
   "outputs": [
    {
     "data": {
      "text/plain": [
       "np.int64(6)"
      ]
     },
     "execution_count": 64,
     "metadata": {},
     "output_type": "execute_result"
    }
   ],
   "source": [
    "np.sum(a1)"
   ]
  },
  {
   "cell_type": "code",
   "execution_count": 65,
   "id": "df4754bf-578a-4d7d-922a-42146bec6e5e",
   "metadata": {},
   "outputs": [],
   "source": [
    "massive_array = np.random.random(999999)"
   ]
  },
  {
   "cell_type": "code",
   "execution_count": 66,
   "id": "29ac6b23-8d3e-4a2a-8596-16b034e9c131",
   "metadata": {},
   "outputs": [
    {
     "data": {
      "text/plain": [
       "array([4.57606282e-01, 8.82129970e-01, 9.25518755e-01, 4.15462081e-02,\n",
       "       1.58730726e-01, 6.19021814e-01, 2.60643022e-01, 6.25897789e-01,\n",
       "       4.37958297e-01, 4.20755125e-01, 2.40102418e-02, 9.80847714e-01,\n",
       "       1.21534586e-02, 2.74054429e-01, 1.80420438e-01, 5.19221434e-01,\n",
       "       3.95464056e-04, 2.15496688e-01, 4.39012050e-01, 9.47794362e-01])"
      ]
     },
     "execution_count": 66,
     "metadata": {},
     "output_type": "execute_result"
    }
   ],
   "source": [
    "massive_array[:20]"
   ]
  },
  {
   "cell_type": "code",
   "execution_count": 68,
   "id": "eaa32b50-7f07-4dd2-9fd8-df75b2fb5a61",
   "metadata": {},
   "outputs": [
    {
     "data": {
      "text/plain": [
       "999999"
      ]
     },
     "execution_count": 68,
     "metadata": {},
     "output_type": "execute_result"
    }
   ],
   "source": [
    "massive_array.size"
   ]
  },
  {
   "cell_type": "code",
   "execution_count": 69,
   "id": "8ee6ca0b-2322-4c16-b018-3a47b5f0c7f5",
   "metadata": {},
   "outputs": [
    {
     "name": "stdout",
     "output_type": "stream",
     "text": [
      "52.5 ms ± 455 μs per loop (mean ± std. dev. of 7 runs, 10 loops each)\n",
      "260 μs ± 2.6 μs per loop (mean ± std. dev. of 7 runs, 1,000 loops each)\n"
     ]
    }
   ],
   "source": [
    "%timeit sum(massive_array)\n",
    "%timeit np.sum(massive_array)"
   ]
  },
  {
   "cell_type": "code",
   "execution_count": 70,
   "id": "ca06f505-b8cd-4567-b3c9-6171444817a1",
   "metadata": {},
   "outputs": [
    {
     "data": {
      "text/plain": [
       "array([10, 20, 30, 40, 50])"
      ]
     },
     "execution_count": 70,
     "metadata": {},
     "output_type": "execute_result"
    }
   ],
   "source": [
    "ra_5"
   ]
  },
  {
   "cell_type": "code",
   "execution_count": 71,
   "id": "61163a63-7777-4aba-8df6-9b5b91469a2b",
   "metadata": {},
   "outputs": [
    {
     "data": {
      "text/plain": [
       "np.float64(30.0)"
      ]
     },
     "execution_count": 71,
     "metadata": {},
     "output_type": "execute_result"
    }
   ],
   "source": [
    "np.mean(ra_5)"
   ]
  },
  {
   "cell_type": "code",
   "execution_count": 72,
   "id": "17ce5cbd-fb9d-4b4b-ba3b-51fdf7f27736",
   "metadata": {},
   "outputs": [
    {
     "data": {
      "text/plain": [
       "np.int64(10)"
      ]
     },
     "execution_count": 72,
     "metadata": {},
     "output_type": "execute_result"
    }
   ],
   "source": [
    "np.min(ra_5)"
   ]
  },
  {
   "cell_type": "code",
   "execution_count": 73,
   "id": "65301a8e-6462-497f-a79b-4cb4f69da73e",
   "metadata": {},
   "outputs": [
    {
     "data": {
      "text/plain": [
       "np.float64(14.142135623730951)"
      ]
     },
     "execution_count": 73,
     "metadata": {},
     "output_type": "execute_result"
    }
   ],
   "source": [
    "np.std(ra_5)"
   ]
  },
  {
   "cell_type": "code",
   "execution_count": 74,
   "id": "ea46fe60-8d88-4e64-a96b-dd5ab3204eeb",
   "metadata": {},
   "outputs": [
    {
     "data": {
      "text/plain": [
       "np.float64(200.0)"
      ]
     },
     "execution_count": 74,
     "metadata": {},
     "output_type": "execute_result"
    }
   ],
   "source": [
    "np.var(ra_5)"
   ]
  },
  {
   "cell_type": "code",
   "execution_count": 80,
   "id": "157f16c4-5edf-4b01-8b0a-5856edab71e6",
   "metadata": {},
   "outputs": [
    {
     "ename": "ValueError",
     "evalue": "operands could not be broadcast together with shapes (3,) (3,5) ",
     "output_type": "error",
     "traceback": [
      "\u001b[31m---------------------------------------------------------------------------\u001b[39m",
      "\u001b[31mValueError\u001b[39m                                Traceback (most recent call last)",
      "\u001b[36mCell\u001b[39m\u001b[36m \u001b[39m\u001b[32mIn[80]\u001b[39m\u001b[32m, line 1\u001b[39m\n\u001b[32m----> \u001b[39m\u001b[32m1\u001b[39m a1 * ra_1\n",
      "\u001b[31mValueError\u001b[39m: operands could not be broadcast together with shapes (3,) (3,5) "
     ]
    }
   ],
   "source": [
    "a1 * ra_1"
   ]
  },
  {
   "cell_type": "code",
   "execution_count": 82,
   "id": "3f471958-953e-400e-aad4-c84037eedce3",
   "metadata": {},
   "outputs": [],
   "source": [
    "a1_reshape = a1.reshape(3, 1)"
   ]
  },
  {
   "cell_type": "code",
   "execution_count": 83,
   "id": "dd9d6316-44e9-4c00-9f6e-a69761196b18",
   "metadata": {},
   "outputs": [
    {
     "data": {
      "text/plain": [
       "(3, 1)"
      ]
     },
     "execution_count": 83,
     "metadata": {},
     "output_type": "execute_result"
    }
   ],
   "source": [
    "a1_reshape.shape"
   ]
  },
  {
   "cell_type": "code",
   "execution_count": 84,
   "id": "161f19bd-bd02-4e68-a385-dae416b47808",
   "metadata": {},
   "outputs": [
    {
     "data": {
      "text/plain": [
       "array([[1],\n",
       "       [2],\n",
       "       [3]])"
      ]
     },
     "execution_count": 84,
     "metadata": {},
     "output_type": "execute_result"
    }
   ],
   "source": [
    "a1_reshape"
   ]
  },
  {
   "cell_type": "code",
   "execution_count": 86,
   "id": "eaae0a38-25d4-4576-a582-e4b0eb69703a",
   "metadata": {},
   "outputs": [
    {
     "data": {
      "text/plain": [
       "array([[8, 9, 3, 8, 8],\n",
       "       [0, 5, 3, 9, 9],\n",
       "       [5, 7, 6, 0, 4]], dtype=int32)"
      ]
     },
     "execution_count": 86,
     "metadata": {},
     "output_type": "execute_result"
    }
   ],
   "source": [
    "ra_1"
   ]
  },
  {
   "cell_type": "code",
   "execution_count": 85,
   "id": "6fab9e34-cb72-4ba7-8093-e86bc0814b2d",
   "metadata": {},
   "outputs": [
    {
     "data": {
      "text/plain": [
       "array([[ 8,  9,  3,  8,  8],\n",
       "       [ 0, 10,  6, 18, 18],\n",
       "       [15, 21, 18,  0, 12]])"
      ]
     },
     "execution_count": 85,
     "metadata": {},
     "output_type": "execute_result"
    }
   ],
   "source": [
    "a1_reshape * ra_1"
   ]
  },
  {
   "cell_type": "code",
   "execution_count": 87,
   "id": "32c936ee-c373-400b-8a98-faadfb612f0b",
   "metadata": {},
   "outputs": [
    {
     "data": {
      "text/plain": [
       "array([[8, 0, 5],\n",
       "       [9, 5, 7],\n",
       "       [3, 3, 6],\n",
       "       [8, 9, 0],\n",
       "       [8, 9, 4]], dtype=int32)"
      ]
     },
     "execution_count": 87,
     "metadata": {},
     "output_type": "execute_result"
    }
   ],
   "source": [
    "ra_1.T"
   ]
  },
  {
   "cell_type": "code",
   "execution_count": 90,
   "id": "ab2ce91b-0b6a-4cba-956c-c55c649990b4",
   "metadata": {},
   "outputs": [],
   "source": [
    "ra_6 = np.random.randint(10, size=(2,2,3))"
   ]
  },
  {
   "cell_type": "code",
   "execution_count": 91,
   "id": "01f18232-df3f-447c-9fd5-d3d1afcbbff7",
   "metadata": {},
   "outputs": [
    {
     "data": {
      "text/plain": [
       "array([[[2, 4, 2],\n",
       "        [4, 8, 4]],\n",
       "\n",
       "       [[1, 8, 8],\n",
       "        [5, 0, 8]]], dtype=int32)"
      ]
     },
     "execution_count": 91,
     "metadata": {},
     "output_type": "execute_result"
    }
   ],
   "source": [
    "ra_6"
   ]
  },
  {
   "cell_type": "code",
   "execution_count": 92,
   "id": "29edb0bf-9b45-4764-9bbf-506d307459af",
   "metadata": {},
   "outputs": [
    {
     "data": {
      "text/plain": [
       "array([[[2, 1],\n",
       "        [4, 5]],\n",
       "\n",
       "       [[4, 8],\n",
       "        [8, 0]],\n",
       "\n",
       "       [[2, 8],\n",
       "        [4, 8]]], dtype=int32)"
      ]
     },
     "execution_count": 92,
     "metadata": {},
     "output_type": "execute_result"
    }
   ],
   "source": [
    "ra_6.T"
   ]
  },
  {
   "cell_type": "markdown",
   "id": "b2881759-71ba-4cb6-aa29-7c17a802803d",
   "metadata": {},
   "source": [
    "### Dot product"
   ]
  },
  {
   "cell_type": "code",
   "execution_count": 97,
   "id": "d5d25179-611c-4de2-b3cf-f70db107711a",
   "metadata": {},
   "outputs": [],
   "source": [
    "np.random.seed(0)\n",
    "mat1 = np.random.randint(10, size=(5,3))\n",
    "mat2 = np.random.randint(10, size=(5,3))"
   ]
  },
  {
   "cell_type": "code",
   "execution_count": 98,
   "id": "170c903b-c39a-4340-8e85-f557c4a07553",
   "metadata": {},
   "outputs": [
    {
     "data": {
      "text/plain": [
       "array([[5, 0, 3],\n",
       "       [3, 7, 9],\n",
       "       [3, 5, 2],\n",
       "       [4, 7, 6],\n",
       "       [8, 8, 1]], dtype=int32)"
      ]
     },
     "execution_count": 98,
     "metadata": {},
     "output_type": "execute_result"
    }
   ],
   "source": [
    "mat1"
   ]
  },
  {
   "cell_type": "code",
   "execution_count": 99,
   "id": "dcc291c4-04d3-4333-94b5-1f0d76009c65",
   "metadata": {},
   "outputs": [
    {
     "data": {
      "text/plain": [
       "array([[6, 7, 7],\n",
       "       [8, 1, 5],\n",
       "       [9, 8, 9],\n",
       "       [4, 3, 0],\n",
       "       [3, 5, 0]], dtype=int32)"
      ]
     },
     "execution_count": 99,
     "metadata": {},
     "output_type": "execute_result"
    }
   ],
   "source": [
    "mat2"
   ]
  },
  {
   "cell_type": "code",
   "execution_count": 101,
   "id": "2fa8342d-3c86-44a3-be36-81f4c2b07a66",
   "metadata": {},
   "outputs": [
    {
     "data": {
      "text/plain": [
       "array([[30,  0, 21],\n",
       "       [24,  7, 45],\n",
       "       [27, 40, 18],\n",
       "       [16, 21,  0],\n",
       "       [24, 40,  0]], dtype=int32)"
      ]
     },
     "execution_count": 101,
     "metadata": {},
     "output_type": "execute_result"
    }
   ],
   "source": [
    "mat1 * mat2"
   ]
  },
  {
   "cell_type": "code",
   "execution_count": 102,
   "id": "58a2ab24-4f12-43f2-b118-c9d4376e6d51",
   "metadata": {},
   "outputs": [
    {
     "ename": "ValueError",
     "evalue": "shapes (5,3) and (5,3) not aligned: 3 (dim 1) != 5 (dim 0)",
     "output_type": "error",
     "traceback": [
      "\u001b[31m---------------------------------------------------------------------------\u001b[39m",
      "\u001b[31mValueError\u001b[39m                                Traceback (most recent call last)",
      "\u001b[36mCell\u001b[39m\u001b[36m \u001b[39m\u001b[32mIn[102]\u001b[39m\u001b[32m, line 1\u001b[39m\n\u001b[32m----> \u001b[39m\u001b[32m1\u001b[39m np.dot(mat1, mat2)\n",
      "\u001b[31mValueError\u001b[39m: shapes (5,3) and (5,3) not aligned: 3 (dim 1) != 5 (dim 0)"
     ]
    }
   ],
   "source": [
    "np.dot(mat1, mat2)"
   ]
  },
  {
   "cell_type": "code",
   "execution_count": 109,
   "id": "15254628-7dd6-4a79-952b-f67337a96e5a",
   "metadata": {},
   "outputs": [],
   "source": [
    "mat3 = mat2.T"
   ]
  },
  {
   "cell_type": "code",
   "execution_count": 110,
   "id": "f627fab9-a4e4-4ba7-bb58-a9c70072563d",
   "metadata": {},
   "outputs": [
    {
     "data": {
      "text/plain": [
       "((5, 3), (3, 5))"
      ]
     },
     "execution_count": 110,
     "metadata": {},
     "output_type": "execute_result"
    }
   ],
   "source": [
    "mat1.shape, mat3.shape"
   ]
  },
  {
   "cell_type": "code",
   "execution_count": 111,
   "id": "07aed122-c858-4ddf-b843-7564160eb403",
   "metadata": {},
   "outputs": [
    {
     "data": {
      "text/plain": [
       "array([[ 51,  55,  72,  20,  15],\n",
       "       [130,  76, 164,  33,  44],\n",
       "       [ 67,  39,  85,  27,  34],\n",
       "       [115,  69, 146,  37,  47],\n",
       "       [111,  77, 145,  56,  64]], dtype=int32)"
      ]
     },
     "execution_count": 111,
     "metadata": {},
     "output_type": "execute_result"
    }
   ],
   "source": [
    "np.dot(mat1, mat3)"
   ]
  },
  {
   "cell_type": "markdown",
   "id": "5a7d5268-f6b5-4ae6-a2e3-10091887865f",
   "metadata": {},
   "source": [
    "### Dot product example"
   ]
  },
  {
   "cell_type": "code",
   "execution_count": 113,
   "id": "664b06df-75be-4b1a-815f-d4d56e9a515d",
   "metadata": {},
   "outputs": [
    {
     "data": {
      "text/plain": [
       "array([[12, 15,  0],\n",
       "       [ 3,  3,  7],\n",
       "       [ 9, 19, 18],\n",
       "       [ 4,  6, 12],\n",
       "       [ 1,  6,  7]], dtype=int32)"
      ]
     },
     "execution_count": 113,
     "metadata": {},
     "output_type": "execute_result"
    }
   ],
   "source": [
    "np.random.seed(0)\n",
    "sales_amounts = np.random.randint(20, size=(5,3))\n",
    "sales_amounts"
   ]
  },
  {
   "cell_type": "code",
   "execution_count": 115,
   "id": "31a86d71-6f88-4ee9-9ac0-5da72de098ec",
   "metadata": {},
   "outputs": [
    {
     "data": {
      "text/html": [
       "<div>\n",
       "<style scoped>\n",
       "    .dataframe tbody tr th:only-of-type {\n",
       "        vertical-align: middle;\n",
       "    }\n",
       "\n",
       "    .dataframe tbody tr th {\n",
       "        vertical-align: top;\n",
       "    }\n",
       "\n",
       "    .dataframe thead th {\n",
       "        text-align: right;\n",
       "    }\n",
       "</style>\n",
       "<table border=\"1\" class=\"dataframe\">\n",
       "  <thead>\n",
       "    <tr style=\"text-align: right;\">\n",
       "      <th></th>\n",
       "      <th>Almond Butter</th>\n",
       "      <th>Peanut Butter</th>\n",
       "      <th>Cashew Butter</th>\n",
       "    </tr>\n",
       "  </thead>\n",
       "  <tbody>\n",
       "    <tr>\n",
       "      <th>Mon</th>\n",
       "      <td>12</td>\n",
       "      <td>15</td>\n",
       "      <td>0</td>\n",
       "    </tr>\n",
       "    <tr>\n",
       "      <th>Tue</th>\n",
       "      <td>3</td>\n",
       "      <td>3</td>\n",
       "      <td>7</td>\n",
       "    </tr>\n",
       "    <tr>\n",
       "      <th>Wed</th>\n",
       "      <td>9</td>\n",
       "      <td>19</td>\n",
       "      <td>18</td>\n",
       "    </tr>\n",
       "    <tr>\n",
       "      <th>Thu</th>\n",
       "      <td>4</td>\n",
       "      <td>6</td>\n",
       "      <td>12</td>\n",
       "    </tr>\n",
       "    <tr>\n",
       "      <th>Fri</th>\n",
       "      <td>1</td>\n",
       "      <td>6</td>\n",
       "      <td>7</td>\n",
       "    </tr>\n",
       "  </tbody>\n",
       "</table>\n",
       "</div>"
      ],
      "text/plain": [
       "     Almond Butter  Peanut Butter  Cashew Butter\n",
       "Mon             12             15              0\n",
       "Tue              3              3              7\n",
       "Wed              9             19             18\n",
       "Thu              4              6             12\n",
       "Fri              1              6              7"
      ]
     },
     "execution_count": 115,
     "metadata": {},
     "output_type": "execute_result"
    }
   ],
   "source": [
    "# Weekly sales\n",
    "weekly_sales = pd.DataFrame(sales_amounts,\n",
    "                            index=[\"Mon\", \"Tue\", \"Wed\", \"Thu\", \"Fri\"],\n",
    "                            columns=[\"Almond Butter\", \"Peanut Butter\", \"Cashew Butter\"])\n",
    "weekly_sales"
   ]
  },
  {
   "cell_type": "code",
   "execution_count": 117,
   "id": "558bc758-4910-490e-a0d5-07bd87470c0a",
   "metadata": {},
   "outputs": [
    {
     "data": {
      "text/plain": [
       "array([10,  8, 12])"
      ]
     },
     "execution_count": 117,
     "metadata": {},
     "output_type": "execute_result"
    }
   ],
   "source": [
    "# Prices array\n",
    "prices = np.array([10, 8, 12])\n",
    "prices"
   ]
  },
  {
   "cell_type": "code",
   "execution_count": 119,
   "id": "a801515d-087c-4d68-a064-ac056f365119",
   "metadata": {},
   "outputs": [
    {
     "data": {
      "text/html": [
       "<div>\n",
       "<style scoped>\n",
       "    .dataframe tbody tr th:only-of-type {\n",
       "        vertical-align: middle;\n",
       "    }\n",
       "\n",
       "    .dataframe tbody tr th {\n",
       "        vertical-align: top;\n",
       "    }\n",
       "\n",
       "    .dataframe thead th {\n",
       "        text-align: right;\n",
       "    }\n",
       "</style>\n",
       "<table border=\"1\" class=\"dataframe\">\n",
       "  <thead>\n",
       "    <tr style=\"text-align: right;\">\n",
       "      <th></th>\n",
       "      <th>Almond Butter</th>\n",
       "      <th>Peanut Butter</th>\n",
       "      <th>Cashew Butter</th>\n",
       "    </tr>\n",
       "  </thead>\n",
       "  <tbody>\n",
       "    <tr>\n",
       "      <th>Price</th>\n",
       "      <td>10</td>\n",
       "      <td>8</td>\n",
       "      <td>12</td>\n",
       "    </tr>\n",
       "  </tbody>\n",
       "</table>\n",
       "</div>"
      ],
      "text/plain": [
       "       Almond Butter  Peanut Butter  Cashew Butter\n",
       "Price             10              8             12"
      ]
     },
     "execution_count": 119,
     "metadata": {},
     "output_type": "execute_result"
    }
   ],
   "source": [
    "butter_prices = pd.DataFrame(prices.reshape(1,3),\n",
    "                             index=[\"Price\"],\n",
    "                             columns=[\"Almond Butter\", \"Peanut Butter\", \"Cashew Butter\"])\n",
    "butter_prices"
   ]
  },
  {
   "cell_type": "code",
   "execution_count": 122,
   "id": "56a8b500-0b65-4a69-88f8-7d82795099b7",
   "metadata": {},
   "outputs": [
    {
     "data": {
      "text/plain": [
       "array([240, 138, 458, 232, 142])"
      ]
     },
     "execution_count": 122,
     "metadata": {},
     "output_type": "execute_result"
    }
   ],
   "source": [
    "total_sales = np.dot(sales_amounts, prices)\n",
    "total_sales"
   ]
  },
  {
   "cell_type": "code",
   "execution_count": 123,
   "id": "2d18b04f-67fc-421b-9550-feb009e1235a",
   "metadata": {},
   "outputs": [
    {
     "data": {
      "text/html": [
       "<div>\n",
       "<style scoped>\n",
       "    .dataframe tbody tr th:only-of-type {\n",
       "        vertical-align: middle;\n",
       "    }\n",
       "\n",
       "    .dataframe tbody tr th {\n",
       "        vertical-align: top;\n",
       "    }\n",
       "\n",
       "    .dataframe thead th {\n",
       "        text-align: right;\n",
       "    }\n",
       "</style>\n",
       "<table border=\"1\" class=\"dataframe\">\n",
       "  <thead>\n",
       "    <tr style=\"text-align: right;\">\n",
       "      <th></th>\n",
       "      <th>Almond Butter</th>\n",
       "      <th>Peanut Butter</th>\n",
       "      <th>Cashew Butter</th>\n",
       "      <th>Total</th>\n",
       "    </tr>\n",
       "  </thead>\n",
       "  <tbody>\n",
       "    <tr>\n",
       "      <th>Mon</th>\n",
       "      <td>12</td>\n",
       "      <td>15</td>\n",
       "      <td>0</td>\n",
       "      <td>240</td>\n",
       "    </tr>\n",
       "    <tr>\n",
       "      <th>Tue</th>\n",
       "      <td>3</td>\n",
       "      <td>3</td>\n",
       "      <td>7</td>\n",
       "      <td>138</td>\n",
       "    </tr>\n",
       "    <tr>\n",
       "      <th>Wed</th>\n",
       "      <td>9</td>\n",
       "      <td>19</td>\n",
       "      <td>18</td>\n",
       "      <td>458</td>\n",
       "    </tr>\n",
       "    <tr>\n",
       "      <th>Thu</th>\n",
       "      <td>4</td>\n",
       "      <td>6</td>\n",
       "      <td>12</td>\n",
       "      <td>232</td>\n",
       "    </tr>\n",
       "    <tr>\n",
       "      <th>Fri</th>\n",
       "      <td>1</td>\n",
       "      <td>6</td>\n",
       "      <td>7</td>\n",
       "      <td>142</td>\n",
       "    </tr>\n",
       "  </tbody>\n",
       "</table>\n",
       "</div>"
      ],
      "text/plain": [
       "     Almond Butter  Peanut Butter  Cashew Butter  Total\n",
       "Mon             12             15              0    240\n",
       "Tue              3              3              7    138\n",
       "Wed              9             19             18    458\n",
       "Thu              4              6             12    232\n",
       "Fri              1              6              7    142"
      ]
     },
     "execution_count": 123,
     "metadata": {},
     "output_type": "execute_result"
    }
   ],
   "source": [
    "weekly_sales[\"Total\"] = total_sales\n",
    "weekly_sales"
   ]
  },
  {
   "cell_type": "markdown",
   "id": "13ec6f87-81e2-4421-b8d1-3459c8574d2d",
   "metadata": {},
   "source": [
    "## Example - IMAGES"
   ]
  },
  {
   "cell_type": "markdown",
   "id": "9bcd6028-e4f6-4560-8be5-0911eb593f62",
   "metadata": {},
   "source": [
    "<img src=\"images/numpy-panda.jpeg\" width=\"500px\"/>"
   ]
  },
  {
   "cell_type": "code",
   "execution_count": 126,
   "id": "c8577c94-6e0c-472b-9f14-f80a2e45cbdd",
   "metadata": {},
   "outputs": [
    {
     "data": {
      "text/plain": [
       "numpy.ndarray"
      ]
     },
     "execution_count": 126,
     "metadata": {},
     "output_type": "execute_result"
    }
   ],
   "source": [
    "# Turn an image into a NumPy array\n",
    "\n",
    "from matplotlib.image import imread\n",
    "panda = imread(\"images/numpy-panda.jpeg\")\n",
    "type(panda)"
   ]
  },
  {
   "cell_type": "code",
   "execution_count": 127,
   "id": "b81f6e09-a780-44f1-863a-78b2df7bcec9",
   "metadata": {},
   "outputs": [
    {
     "data": {
      "text/plain": [
       "(3271680, (852, 1280, 3), 3)"
      ]
     },
     "execution_count": 127,
     "metadata": {},
     "output_type": "execute_result"
    }
   ],
   "source": [
    "panda.size, panda.shape, panda.ndim"
   ]
  },
  {
   "cell_type": "code",
   "execution_count": null,
   "id": "70a9e78b-e449-4fe1-8045-5b8f9ad8f1bc",
   "metadata": {},
   "outputs": [],
   "source": [
    "# https://jakevdp.github.io/PythonDataScienceHandbook/02.02-the-basics-of-numpy-arrays.html\n",
    "# https://jalammar.github.io/visual-numpy/\n"
   ]
  }
 ],
 "metadata": {
  "kernelspec": {
   "display_name": "Python 3 (ipykernel)",
   "language": "python",
   "name": "python3"
  },
  "language_info": {
   "codemirror_mode": {
    "name": "ipython",
    "version": 3
   },
   "file_extension": ".py",
   "mimetype": "text/x-python",
   "name": "python",
   "nbconvert_exporter": "python",
   "pygments_lexer": "ipython3",
   "version": "3.13.2"
  }
 },
 "nbformat": 4,
 "nbformat_minor": 5
}
